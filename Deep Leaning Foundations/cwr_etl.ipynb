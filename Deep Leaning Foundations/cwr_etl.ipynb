{
 "cells": [
  {
   "cell_type": "code",
   "execution_count": 1,
   "metadata": {},
   "outputs": [],
   "source": [
    "import numpy as np\n",
    "import pandas as pd\n",
    "import scipy.io as sio\n",
    "import os"
   ]
  },
  {
   "cell_type": "code",
   "execution_count": 2,
   "metadata": {
    "scrolled": true
   },
   "outputs": [
    {
     "name": "stdout",
     "output_type": "stream",
     "text": [
      "--2020-07-01 10:30:25--  http://csegroups.case.edu/sites/default/files/bearingdatacenter/files/Datafiles/97.mat\n",
      "Resolving csegroups.case.edu (csegroups.case.edu)... 129.22.25.84\n",
      "Connecting to csegroups.case.edu (csegroups.case.edu)|129.22.25.84|:80... connected.\n",
      "HTTP request sent, awaiting response... 302 Found\n",
      "Location: https://csegroups.case.edu/sites/default/files/bearingdatacenter/files/Datafiles/97.mat [following]\n",
      "--2020-07-01 10:30:28--  https://csegroups.case.edu/sites/default/files/bearingdatacenter/files/Datafiles/97.mat\n",
      "Connecting to csegroups.case.edu (csegroups.case.edu)|129.22.25.84|:443... connected.\n",
      "HTTP request sent, awaiting response... 200 OK\n",
      "Length: 3903344 (3.7M)\n",
      "Saving to: ‘97.mat’\n",
      "\n",
      "97.mat              100%[===================>]   3.72M  70.2KB/s    in 59s     \n",
      "\n",
      "2020-07-01 10:31:28 (64.5 KB/s) - ‘97.mat’ saved [3903344/3903344]\n",
      "\n",
      "--2020-07-01 10:31:28--  http://csegroups.case.edu/sites/default/files/bearingdatacenter/files/Datafiles/98.mat\n",
      "Resolving csegroups.case.edu (csegroups.case.edu)... 129.22.25.84\n",
      "Connecting to csegroups.case.edu (csegroups.case.edu)|129.22.25.84|:80... connected.\n",
      "HTTP request sent, awaiting response... 302 Found\n",
      "Location: https://csegroups.case.edu/sites/default/files/bearingdatacenter/files/Datafiles/98.mat [following]\n",
      "--2020-07-01 10:31:29--  https://csegroups.case.edu/sites/default/files/bearingdatacenter/files/Datafiles/98.mat\n",
      "Connecting to csegroups.case.edu (csegroups.case.edu)|129.22.25.84|:443... connected.\n",
      "HTTP request sent, awaiting response... 200 OK\n",
      "Length: 7742720 (7.4M)\n",
      "Saving to: ‘98.mat’\n",
      "\n",
      "98.mat              100%[===================>]   7.38M   110KB/s    in 1m 40s  \n",
      "\n",
      "2020-07-01 10:33:11 (75.9 KB/s) - ‘98.mat’ saved [7742720/7742720]\n",
      "\n",
      "--2020-07-01 10:33:11--  http://csegroups.case.edu/sites/default/files/bearingdatacenter/files/Datafiles/99.mat\n",
      "Resolving csegroups.case.edu (csegroups.case.edu)... 129.22.25.84\n",
      "Connecting to csegroups.case.edu (csegroups.case.edu)|129.22.25.84|:80... connected.\n",
      "HTTP request sent, awaiting response... 302 Found\n",
      "Location: https://csegroups.case.edu/sites/default/files/bearingdatacenter/files/Datafiles/99.mat [following]\n",
      "--2020-07-01 10:33:12--  https://csegroups.case.edu/sites/default/files/bearingdatacenter/files/Datafiles/99.mat\n",
      "Connecting to csegroups.case.edu (csegroups.case.edu)|129.22.25.84|:443... connected.\n",
      "HTTP request sent, awaiting response... 200 OK\n",
      "Length: 15503928 (15M)\n",
      "Saving to: ‘99.mat’\n",
      "\n",
      "99.mat              100%[===================>]  14.79M   175KB/s    in 2m 7s   \n",
      "\n",
      "2020-07-01 10:35:20 (119 KB/s) - ‘99.mat’ saved [15503928/15503928]\n",
      "\n",
      "--2020-07-01 10:35:20--  http://csegroups.case.edu/sites/default/files/bearingdatacenter/files/Datafiles/100.mat\n",
      "Resolving csegroups.case.edu (csegroups.case.edu)... 129.22.25.84\n",
      "Connecting to csegroups.case.edu (csegroups.case.edu)|129.22.25.84|:80... connected.\n",
      "HTTP request sent, awaiting response... 302 Found\n",
      "Location: https://csegroups.case.edu/sites/default/files/bearingdatacenter/files/Datafiles/100.mat [following]\n",
      "--2020-07-01 10:35:21--  https://csegroups.case.edu/sites/default/files/bearingdatacenter/files/Datafiles/100.mat\n",
      "Connecting to csegroups.case.edu (csegroups.case.edu)|129.22.25.84|:443... connected.\n",
      "HTTP request sent, awaiting response... 200 OK\n",
      "Length: 7770624 (7.4M)\n",
      "Saving to: ‘100.mat’\n",
      "\n",
      "100.mat             100%[===================>]   7.41M   140KB/s    in 67s     \n",
      "\n",
      "2020-07-01 10:36:30 (114 KB/s) - ‘100.mat’ saved [7770624/7770624]\n",
      "\n"
     ]
    }
   ],
   "source": [
    "!wget http://csegroups.case.edu/sites/default/files/bearingdatacenter/files/Datafiles/97.mat\n",
    "!wget http://csegroups.case.edu/sites/default/files/bearingdatacenter/files/Datafiles/98.mat\n",
    "!wget http://csegroups.case.edu/sites/default/files/bearingdatacenter/files/Datafiles/99.mat\n",
    "!wget http://csegroups.case.edu/sites/default/files/bearingdatacenter/files/Datafiles/100.mat"
   ]
  },
  {
   "cell_type": "code",
   "execution_count": 9,
   "metadata": {},
   "outputs": [],
   "source": [
    "!mkdir  ./data/cwr_healthy"
   ]
  },
  {
   "cell_type": "code",
   "execution_count": 10,
   "metadata": {},
   "outputs": [],
   "source": [
    "!mv *.mat ./data/cwr_healthy/"
   ]
  },
  {
   "cell_type": "code",
   "execution_count": 11,
   "metadata": {},
   "outputs": [],
   "source": [
    "def read_folder(folder):\n",
    "    data = 'dummy'\n",
    "    skip = False\n",
    "    for file in os.listdir(folder):\n",
    "        file_id = file[:-4]\n",
    "        mat_file_dict = sio.loadmat(folder+file)\n",
    "        del data\n",
    "        for key, value in mat_file_dict.items():\n",
    "            if 'DE_time' in key or 'FE_time' in key:\n",
    "                a = np.array(mat_file_dict[key])\n",
    "                try:\n",
    "                    data\n",
    "                except NameError:\n",
    "                    data = a\n",
    "                else:\n",
    "                    if (data.shape[0] != a.shape[0]):\n",
    "                        print('skipping ' + file_id)\n",
    "                        skip = True\n",
    "                        continue\n",
    "                    data = np.hstack((data,a))\n",
    "        if skip:\n",
    "            skip=False\n",
    "            continue\n",
    "        id = np.repeat(file_id,data.shape[0])\n",
    "        id.shape = (id.shape[0],1)\n",
    "        data = np.hstack((id,data))\n",
    "        if data.shape[1] == 2:\n",
    "            zeros = np.repeat(float(0),data.shape[0])\n",
    "            zeros.shape =(data.shape[0],1)\n",
    "            data = np.hstack((data,zeros))\n",
    "        try:\n",
    "            result\n",
    "        except NameError:\n",
    "            result = data\n",
    "        else:\n",
    "            result = np.vstack((result,data))\n",
    "    return result"
   ]
  },
  {
   "cell_type": "code",
   "execution_count": 12,
   "metadata": {},
   "outputs": [
    {
     "name": "stdout",
     "output_type": "stream",
     "text": [
      "skipping 99\n",
      "skipping 99\n"
     ]
    }
   ],
   "source": [
    "result_healthy = read_folder('./data/cwr_healthy/')"
   ]
  },
  {
   "cell_type": "code",
   "execution_count": 13,
   "metadata": {},
   "outputs": [],
   "source": [
    "pdf = pd.DataFrame(result_healthy)"
   ]
  },
  {
   "cell_type": "code",
   "execution_count": 14,
   "metadata": {},
   "outputs": [],
   "source": [
    "pdf.to_csv('data/result_healthy_pandas.csv', header=False, index=True)"
   ]
  },
  {
   "cell_type": "code",
   "execution_count": null,
   "metadata": {},
   "outputs": [],
   "source": [
    "#!for url in `curl -s csegroups.case.edu/bearingdatacenter/pages/12k-drive-end-bearing-fault-data |grep mat |grep http |awk -F'href=\"' '{print $2}' |awk -F'\">' '{print $1}'`; do wget $url; done\n",
    "#!for url in `curl -s csegroups.case.edu/bearingdatacenter/pages/48k-drive-end-bearing-fault-data |grep mat |grep http |awk -F'href=\"' '{print $2}' |awk -F'\">' '{print $1}'`; do wget $url; done\n",
    "#!for url in `curl -s csegroups.case.edu/bearingdatacenter/pages/12k-fan-end-bearing-fault-data |grep mat |grep http |awk -F'href=\"' '{print $2}' |awk -F'\">' '{print $1}'`; do wget $url; done\n",
    "#!mkdir cwr_faulty\n",
    "#!mv *.mat cwr_faulty/"
   ]
  },
  {
   "cell_type": "code",
   "execution_count": 15,
   "metadata": {
    "scrolled": true
   },
   "outputs": [
    {
     "name": "stdout",
     "output_type": "stream",
     "text": [
      "--2020-07-01 10:38:54--  http://csegroups.case.edu/sites/default/files/bearingdatacenter/files/Datafiles/105.mat\n",
      "Resolving csegroups.case.edu (csegroups.case.edu)... 129.22.25.84\n",
      "Connecting to csegroups.case.edu (csegroups.case.edu)|129.22.25.84|:80... connected.\n",
      "HTTP request sent, awaiting response... 302 Found\n",
      "Location: https://csegroups.case.edu/sites/default/files/bearingdatacenter/files/Datafiles/105.mat [following]\n",
      "--2020-07-01 10:38:55--  https://csegroups.case.edu/sites/default/files/bearingdatacenter/files/Datafiles/105.mat\n",
      "Connecting to csegroups.case.edu (csegroups.case.edu)|129.22.25.84|:443... connected.\n",
      "HTTP request sent, awaiting response... 200 OK\n",
      "Length: 2910768 (2.8M)\n",
      "Saving to: ‘105.mat’\n",
      "\n",
      "105.mat             100%[===================>]   2.78M   179KB/s    in 21s     \n",
      "\n",
      "2020-07-01 10:39:16 (139 KB/s) - ‘105.mat’ saved [2910768/2910768]\n",
      "\n",
      "--2020-07-01 10:39:16--  http://csegroups.case.edu/sites/default/files/bearingdatacenter/files/Datafiles/106.mat\n",
      "Resolving csegroups.case.edu (csegroups.case.edu)... 129.22.25.84\n",
      "Connecting to csegroups.case.edu (csegroups.case.edu)|129.22.25.84|:80... connected.\n",
      "HTTP request sent, awaiting response... 302 Found\n",
      "Location: https://csegroups.case.edu/sites/default/files/bearingdatacenter/files/Datafiles/106.mat [following]\n",
      "--2020-07-01 10:39:17--  https://csegroups.case.edu/sites/default/files/bearingdatacenter/files/Datafiles/106.mat\n",
      "Connecting to csegroups.case.edu (csegroups.case.edu)|129.22.25.84|:443... connected.\n",
      "HTTP request sent, awaiting response... 200 OK\n",
      "Length: 2928192 (2.8M)\n",
      "Saving to: ‘106.mat’\n",
      "\n",
      "106.mat             100%[===================>]   2.79M   150KB/s    in 46s     \n",
      "\n",
      "2020-07-01 10:40:04 (62.5 KB/s) - ‘106.mat’ saved [2928192/2928192]\n",
      "\n",
      "--2020-07-01 10:40:04--  http://csegroups.case.edu/sites/default/files/bearingdatacenter/files/Datafiles/107.mat\n",
      "Resolving csegroups.case.edu (csegroups.case.edu)... 129.22.25.84\n",
      "Connecting to csegroups.case.edu (csegroups.case.edu)|129.22.25.84|:80... connected.\n",
      "HTTP request sent, awaiting response... 302 Found\n",
      "Location: https://csegroups.case.edu/sites/default/files/bearingdatacenter/files/Datafiles/107.mat [following]\n",
      "--2020-07-01 10:40:07--  https://csegroups.case.edu/sites/default/files/bearingdatacenter/files/Datafiles/107.mat\n",
      "Connecting to csegroups.case.edu (csegroups.case.edu)|129.22.25.84|:443... connected.\n",
      "HTTP request sent, awaiting response... 200 OK\n",
      "Length: 2931672 (2.8M)\n",
      "Saving to: ‘107.mat’\n",
      "\n",
      "107.mat             100%[===================>]   2.79M   294KB/s    in 23s     \n",
      "\n",
      "2020-07-01 10:40:31 (124 KB/s) - ‘107.mat’ saved [2931672/2931672]\n",
      "\n",
      "--2020-07-01 10:40:31--  http://csegroups.case.edu/sites/default/files/bearingdatacenter/files/Datafiles/108.mat\n",
      "Resolving csegroups.case.edu (csegroups.case.edu)... 129.22.25.84\n",
      "Connecting to csegroups.case.edu (csegroups.case.edu)|129.22.25.84|:80... connected.\n",
      "HTTP request sent, awaiting response... 302 Found\n",
      "Location: https://csegroups.case.edu/sites/default/files/bearingdatacenter/files/Datafiles/108.mat [following]\n",
      "--2020-07-01 10:40:32--  https://csegroups.case.edu/sites/default/files/bearingdatacenter/files/Datafiles/108.mat\n",
      "Connecting to csegroups.case.edu (csegroups.case.edu)|129.22.25.84|:443... connected.\n",
      "HTTP request sent, awaiting response... 200 OK\n",
      "Length: 2950416 (2.8M)\n",
      "Saving to: ‘108.mat’\n",
      "\n",
      "108.mat             100%[===================>]   2.81M   131KB/s    in 29s     \n",
      "\n",
      "2020-07-01 10:41:02 (99.5 KB/s) - ‘108.mat’ saved [2950416/2950416]\n",
      "\n"
     ]
    }
   ],
   "source": [
    "!wget http://csegroups.case.edu/sites/default/files/bearingdatacenter/files/Datafiles/105.mat\n",
    "!wget http://csegroups.case.edu/sites/default/files/bearingdatacenter/files/Datafiles/106.mat\n",
    "!wget http://csegroups.case.edu/sites/default/files/bearingdatacenter/files/Datafiles/107.mat\n",
    "!wget http://csegroups.case.edu/sites/default/files/bearingdatacenter/files/Datafiles/108.mat"
   ]
  },
  {
   "cell_type": "code",
   "execution_count": 16,
   "metadata": {},
   "outputs": [],
   "source": [
    "!mkdir data/cwr_faulty\n",
    "!mv *.mat data/cwr_faulty/"
   ]
  },
  {
   "cell_type": "code",
   "execution_count": 17,
   "metadata": {},
   "outputs": [
    {
     "name": "stdout",
     "output_type": "stream",
     "text": [
      "ls: cannot access '/data/cwr_faulty/': No such file or directory\r\n"
     ]
    }
   ],
   "source": [
    "!ls /data/cwr_faulty/"
   ]
  },
  {
   "cell_type": "code",
   "execution_count": 18,
   "metadata": {},
   "outputs": [],
   "source": [
    "result_faulty = read_folder('./data/cwr_faulty/')"
   ]
  },
  {
   "cell_type": "code",
   "execution_count": 19,
   "metadata": {},
   "outputs": [],
   "source": [
    "pdf = pd.DataFrame(result_faulty)"
   ]
  },
  {
   "cell_type": "code",
   "execution_count": 20,
   "metadata": {},
   "outputs": [],
   "source": [
    "pdf.to_csv('data/result_faulty_pandas.csv', header=False, index=True)"
   ]
  }
 ],
 "metadata": {
  "kernelspec": {
   "display_name": "Python 3",
   "language": "python",
   "name": "python3"
  },
  "language_info": {
   "codemirror_mode": {
    "name": "ipython",
    "version": 3
   },
   "file_extension": ".py",
   "mimetype": "text/x-python",
   "name": "python",
   "nbconvert_exporter": "python",
   "pygments_lexer": "ipython3",
   "version": "3.7.4"
  }
 },
 "nbformat": 4,
 "nbformat_minor": 1
}
