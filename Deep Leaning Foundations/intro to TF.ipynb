{
 "cells": [
  {
   "cell_type": "code",
   "execution_count": 3,
   "metadata": {},
   "outputs": [
    {
     "name": "stdout",
     "output_type": "stream",
     "text": [
      "Extracting MNIST_data/train-images-idx3-ubyte.gz\n",
      "Extracting MNIST_data/train-labels-idx1-ubyte.gz\n",
      "Extracting MNIST_data/t10k-images-idx3-ubyte.gz\n",
      "Extracting MNIST_data/t10k-labels-idx1-ubyte.gz\n"
     ]
    }
   ],
   "source": [
    "import warnings\n",
    "warnings.filterwarnings('ignore')\n",
    "from tensorflow.examples.tutorials.mnist import input_data\n",
    "import tensorflow as tf\n",
    "%matplotlib inline\n",
    "import matplotlib.pyplot as plt\n",
    "mnist = input_data.read_data_sets('MNIST_data/',one_hot =True)"
   ]
  },
  {
   "cell_type": "code",
   "execution_count": 2,
   "metadata": {
    "scrolled": true
   },
   "outputs": [
    {
     "data": {
      "image/png": "[encoded data removed]",
      "text/plain": [
       "<Figure size 432x288 with 1 Axes>"
      ]
     },
     "metadata": {
      "needs_background": "light"
     },
     "output_type": "display_data"
    }
   ],
   "source": [
    "tf.random.set_seed(5)\n",
    "batch_xs, batch_ys = mnist.train.next_batch(1)\n",
    "X = batch_xs.reshape((28,28))\n",
    "plt.gray()\n",
    "plt.axis('off')\n",
    "plt.imshow(X)\n",
    "plt.show()"
   ]
  },
  {
   "cell_type": "markdown",
   "metadata": {},
   "source": [
    "# difference between tf variable and placeholder:\n",
    "\n",
    "### variable can be tweaked during training, but placeholder is meant to keep training data\n",
    "### variable can be saved after the training"
   ]
  },
  {
   "cell_type": "code",
   "execution_count": 4,
   "metadata": {},
   "outputs": [],
   "source": [
    "x = tf.placeholder(tf.float32, [None,784]) # input shape\n",
    "w = tf.Variable(tf.zeros([784,10])) # very first w (W^[1]), has the entering shape of A^[0] (X) and gives out 10, the number of neurones in the next layer\n",
    "b = tf.Variable(tf.zeros([10]))\n",
    "y = tf.nn.softmax(tf.matmul(x,w) + b)\n",
    "y_hat = tf.placeholder(tf.float32,[None,10])"
   ]
  },
  {
   "cell_type": "markdown",
   "metadata": {},
   "source": [
    "<img src = './data/CrossEntropy.png' >"
   ]
  },
  {
   "cell_type": "code",
   "execution_count": 5,
   "metadata": {
    "scrolled": true
   },
   "outputs": [],
   "source": [
    "cross_entropy = tf.reduce_mean(-tf.reduce_sum(y_hat * tf.log(y),reduction_indices=[1]) ) # same as axis 1\n",
    "# we chose axis one because we have to sum the columns to find\n",
    "# a value for each digit\n",
    "train_step = tf.train.GradientDescentOptimizer(.5).minimize(cross_entropy)"
   ]
  },
  {
   "cell_type": "code",
   "execution_count": 6,
   "metadata": {},
   "outputs": [],
   "source": [
    "session = tf.InteractiveSession()\n",
    "# a session is a way to deploy a tf execution graph\n",
    "# onto a specific execution context like a CPU of GPU\n",
    "\n",
    "tf.global_variables_initializer().run()"
   ]
  },
  {
   "cell_type": "code",
   "execution_count": 8,
   "metadata": {},
   "outputs": [],
   "source": [
    "# Batch Gradient descent loop\n",
    "for _ in range(1000):\n",
    "    batch_xs,batch_ys = mnist.train.next_batch(100)\n",
    "    session.run(train_step,\n",
    "               feed_dict= {x:batch_xs,\n",
    "                           y_hat:batch_ys})"
   ]
  },
  {
   "cell_type": "code",
   "execution_count": 9,
   "metadata": {},
   "outputs": [],
   "source": [
    "correct_prediction = tf.equal(tf.argmax(y,1), tf.argmax(y_hat,1))"
   ]
  },
  {
   "cell_type": "code",
   "execution_count": 10,
   "metadata": {},
   "outputs": [
    {
     "name": "stdout",
     "output_type": "stream",
     "text": [
      "0.9193\n"
     ]
    }
   ],
   "source": [
    "accuracy = tf.reduce_mean(tf.cast(correct_prediction,tf.float32))\n",
    "print(session.run(accuracy, feed_dict = {x : mnist.test.images,\n",
    "                                         y_hat : mnist.test.labels }))"
   ]
  },
  {
   "cell_type": "code",
   "execution_count": 11,
   "metadata": {},
   "outputs": [
    {
     "name": "stdout",
     "output_type": "stream",
     "text": [
      "0.9042\n"
     ]
    }
   ],
   "source": [
    "# if you want the rows to denote the examples\n",
    "x = tf.placeholder(tf.float32, [784,None]) \n",
    "w = tf.Variable(tf.zeros([10,784])) \n",
    "b = tf.Variable(tf.zeros([10,1]))\n",
    "y = tf.nn.softmax(tf.matmul(w,x) +b  )\n",
    "y_hat = tf.placeholder(tf.float32,[10,None])\n",
    "\n",
    "cross_entropy = tf.reduce_mean(-tf.reduce_sum(y_hat * tf.log(y),reduction_indices=[0]) ) # same as axis 0  \n",
    "# we chose axis 0 because we have to sum the rows to find\n",
    "# a value for each digit\n",
    "train_step = tf.train.GradientDescentOptimizer(.5).minimize(cross_entropy)\n",
    "\n",
    "session = tf.InteractiveSession()\n",
    "# a session is a way to deploy a tf execution graph\n",
    "# onto a specific execution context like a CPU of GPU\n",
    "\n",
    "tf.global_variables_initializer().run()\n",
    "\n",
    "# Batch Gradient descent loop\n",
    "for _ in range(1000):\n",
    "    batch_xs,batch_ys = mnist.train.next_batch(100)\n",
    "    session.run(train_step,\n",
    "               feed_dict= {x:batch_xs.T,\n",
    "                           y_hat:batch_ys.T})\n",
    "    \n",
    "correct_prediction = tf.equal(tf.argmax(y,0), tf.argmax(y_hat,0))\n",
    "\n",
    "accuracy = tf.reduce_mean(tf.cast(correct_prediction,tf.float32))\n",
    "print(session.run(accuracy, feed_dict = {x : mnist.test.images.T,\n",
    "                                         y_hat : mnist.test.labels.T }))"
   ]
  }
 ],
 "metadata": {
  "kernelspec": {
   "display_name": "Python 3",
   "language": "python",
   "name": "python3"
  },
  "language_info": {
   "codemirror_mode": {
    "name": "ipython",
    "version": 3
   },
   "file_extension": ".py",
   "mimetype": "text/x-python",
   "name": "python",
   "nbconvert_exporter": "python",
   "pygments_lexer": "ipython3",
   "version": "3.7.4"
  }
 },
 "nbformat": 4,
 "nbformat_minor": 4
}
