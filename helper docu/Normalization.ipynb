{
 "cells": [
  {
   "cell_type": "markdown",
   "metadata": {},
   "source": [
    "# Normalization :\n",
    "\n",
    "    - simple feature scaling  : \n",
    "$$ x_{new} = \\frac{x_{old}}{x_{max}} $$\n",
    "    \n",
    "    - min-max  : \n",
    "$$ x_{new} = \\frac{x_{old} - x_{min}}{x_{max} - x_{min}} $$\n",
    "    \n",
    "    - Z-score  : \n",
    "$$ x_{new} = \\frac{x_{old} - \\mu}{\\sigma} $$\n",
    "    "
   ]
  },
  {
   "cell_type": "markdown",
   "metadata": {},
   "source": [
    "# Never fits the normalization on the test data"
   ]
  }
 ],
 "metadata": {
  "kernelspec": {
   "display_name": "Python 3",
   "language": "python",
   "name": "python3"
  },
  "language_info": {
   "codemirror_mode": {
    "name": "ipython",
    "version": 3
   },
   "file_extension": ".py",
   "mimetype": "text/x-python",
   "name": "python",
   "nbconvert_exporter": "python",
   "pygments_lexer": "ipython3",
   "version": "3.7.4"
  }
 },
 "nbformat": 4,
 "nbformat_minor": 4
}
