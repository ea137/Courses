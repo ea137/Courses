{
 "cells": [
  {
   "cell_type": "markdown",
   "metadata": {},
   "source": [
    "# descriptive Statistic:\n",
    "\n",
    "## functions to use :\n",
    "* *.describe()* : describes the data\n",
    "* *.value_counts()* : df['column'].value_counts() will return the count of each unique value in the column\n",
    "* create boxplot\n",
    "* create scatter plots to discover relationship between two variables :\n",
    "    1. Predictor/independent variables on x-axis\n",
    "    2. Traget/dependent variables on y-axis"
   ]
  },
  {
   "cell_type": "markdown",
   "metadata": {},
   "source": [
    "# use of GROUPBY and Pivot tables"
   ]
  },
  {
   "cell_type": "markdown",
   "metadata": {},
   "source": [
    "# Correlation:\n",
    "* measure to what extent different variables are interdependent \n",
    "* **correlation doesn't apply causation**\n",
    "## good functions :\n",
    "* sns.regplot()\n",
    "# Pearson Correlation:\n",
    "* measures the strength of the correlation between two features, gives out two values :\n",
    "    1. Correlation coefficient between -1 and 1\n",
    "        - close to +1 : Large positive relationship\n",
    "        - close to -1 : Large negativ relationship\n",
    "        - close to 0 : No *linear* relationship\n",
    "    2. P-value\n",
    "        - < .001 : Strong certainty in the result\n",
    "        - < .050 : Moderate certainty in the result\n",
    "        - < 0.10 : Weak certainty in the result\n",
    "        - \\> 0.10 : No certainty in the result\n",
    "    3. you can use the function stats.pearsonr(var1,var2)"
   ]
  },
  {
   "cell_type": "markdown",
   "metadata": {},
   "source": [
    "# Analysis of Variance, ANOVA:\n",
    "\n",
    "* finding correlation between different groups of categorical variable\n",
    "    1. F-test score : variation between sample group means divided by variation within sample group\n",
    "       - small F --> poor correlation\n",
    "    2. p-value : confidence degree\n",
    "* demo :\n",
    "    df_anova = df[['make','price']]\n",
    "    grouped_anova = df_anova.groupby(['make'])\n",
    "    v1 = grouped_anova.get_group('Honda')['price]\n",
    "    v2 = grouped_anova.get_group('subaru')['price]\n",
    "    results = stats.f_oneway(v1,v2)"
   ]
  }
 ],
 "metadata": {
  "kernelspec": {
   "display_name": "Python 3",
   "language": "python",
   "name": "python3"
  },
  "language_info": {
   "codemirror_mode": {
    "name": "ipython",
    "version": 3
   },
   "file_extension": ".py",
   "mimetype": "text/x-python",
   "name": "python",
   "nbconvert_exporter": "python",
   "pygments_lexer": "ipython3",
   "version": "3.7.4"
  }
 },
 "nbformat": 4,
 "nbformat_minor": 4
}
