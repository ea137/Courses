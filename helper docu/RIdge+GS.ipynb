{
 "cells": [
  {
   "cell_type": "markdown",
   "metadata": {},
   "source": [
    "# Ridge Regression :\n",
    "\n",
    "used to fight overfitting in Linear Regression by varying a coefficient alpha > 0\n",
    "\n",
    "* when alpha is 0 nothing changes\n",
    "* when we increase alpha the model becomes less overfitting\n",
    "* increasing alpha too much causes underfitting\n",
    "\n",
    "Example :\n",
    "\n",
    "$$ \\hat y =  1+ 2x -3 x^2 - 2x^3 -12x^4 -40x^5 +80x^6 +71x^7 -141x^8  $$\n",
    "here we notice that as the degree increase the coefficient drastically increase, which is a sign of over fitting, let's apply alpha = .01\n",
    "\n",
    "$$ \\hat y =  1 +x -2 x^2 - 5x^3 - .04x^4 + .15x^5 -1x^6 +1x^7 -.5x^8 $$\n",
    "\n",
    "here we notice that the coefficient aren't drastically increasing anymore, let's apply alpha = 10\n",
    "\n",
    "$$ \\hat y =  1  -.5 x^2 - .3x^3 - .37x^4 + .3x^5 -.3x^6 -.22x^7 -.22x^8 $$\n",
    "here we notice that all the coefficient are close to zero, so the model is clearly underfitting\n"
   ]
  },
  {
   "cell_type": "markdown",
   "metadata": {},
   "source": [
    "```\n",
    "from sklearn.linear_model import Ridge\n",
    "RidgeModel = Ridge(alpha=.1)\n",
    "RidgeModel.fit(X,y)\n",
    "# OR use cross_val_score(RidgeModel, X, y, cv=2) which returns the mean R^2 score of the folds\n",
    "# OR use cross_val_predict(RidgeModel, X, y, cv=2) which returns the prediction of the folds\n",
    "yhat = RidgeModel.predict(X)\n",
    "```"
   ]
  },
  {
   "cell_type": "markdown",
   "metadata": {},
   "source": [
    "# To find optimal alpha we use Gridsearch \n",
    "\n",
    "* Important : Grid Search takes the best parameters of the Validation data, not the training data, and not the test data\n",
    "\n",
    "```\n",
    "from sklearn.model_selection import GridSearchCV\n",
    "from sklearn.linear_model import Ridge\n",
    "parameters = { 'alpha' : [1,10,.1,.01], 'normalize' : [True,False]}\n",
    "RR = Ridge()\n",
    "Grid1 = GridSearchCV(RR, parameters, cv =4) \n",
    "# in this case, R^2 is the default scoring method\n",
    "Grid1.fit(X,y)\n",
    "scores = Grid1.cv_results\n",
    "best = Grd1.best_estimator_\n",
    "```\n",
    "\n"
   ]
  }
 ],
 "metadata": {
  "kernelspec": {
   "display_name": "Python 3",
   "language": "python",
   "name": "python3"
  },
  "language_info": {
   "codemirror_mode": {
    "name": "ipython",
    "version": 3
   },
   "file_extension": ".py",
   "mimetype": "text/x-python",
   "name": "python",
   "nbconvert_exporter": "python",
   "pygments_lexer": "ipython3",
   "version": "3.7.4"
  }
 },
 "nbformat": 4,
 "nbformat_minor": 4
}
