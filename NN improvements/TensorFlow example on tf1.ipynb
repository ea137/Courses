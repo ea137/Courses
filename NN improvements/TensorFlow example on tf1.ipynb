{
 "cells": [
  {
   "cell_type": "code",
   "execution_count": 23,
   "metadata": {},
   "outputs": [],
   "source": [
    "import tensorflow as tf\n",
    "import numpy as np"
   ]
  },
  {
   "cell_type": "markdown",
   "metadata": {},
   "source": [
    "#### cost function to be used \n",
    "$$\n",
    "J = w^2  -10 \\times w +25\n",
    "$$"
   ]
  },
  {
   "cell_type": "code",
   "execution_count": null,
   "metadata": {},
   "outputs": [],
   "source": [
    "w = tf.Variable(0,tf.float32)\n",
    "cost = tf.add(tf.add(w**2 , tf.multiply(-10,w)) ,25)\n",
    "# once w is defined (line 1), you don't need to use the syntax above anymore you can directly write\n",
    "# cost = w**2 - 10 * w +25\n",
    "train = tf..train.GradientDescentOptimizer(learning_rate=.01).minimize(cost) # stochastic gradient descent\n",
    "\n",
    "init = tf.global_variables_initializer()\n",
    "session = tf.Session()\n",
    "session.run(init)\n",
    "print(session.run(w))"
   ]
  },
  {
   "cell_type": "code",
   "execution_count": null,
   "metadata": {},
   "outputs": [],
   "source": [
    "session.run(train) # one iteration of SGD\n",
    "print('after ', 1, 'iterations of SGD, w = 'session.run(w))\n",
    "n = 1000\n",
    "for i in range(0,n):\n",
    "    session.run(train)\n",
    "print('after ', n+1, 'iterations of SGD, w = 'session.run(w))"
   ]
  },
  {
   "cell_type": "code",
   "execution_count": null,
   "metadata": {},
   "outputs": [],
   "source": [
    "# you can also define the coefficient as placeholders to simplify their swapping if needed\n",
    "coef = np.array( [-1.],[-10.], [25.])\n",
    "w = tf.Variable(0,tf.float32)\n",
    "x = tf.placeholder(tf.float32,[3,1])\n",
    "cost = x[0][0]*w**2 - x[1][0] * w +x[2][0]\n",
    "\n",
    "train = tf.keras.optimizers.SGD(learning_rate=.01).minimize(cost, var_list= [w]) # stochastic gradient descent\n",
    "\n",
    "init = tf.global_variables_initializer()\n",
    "session = tf.Session()\n",
    "session.run(init)\n",
    "\n",
    "session.run(train,feed_dict = {x : coef})"
   ]
  }
 ],
 "metadata": {
  "kernelspec": {
   "display_name": "Python 3",
   "language": "python",
   "name": "python3"
  },
  "language_info": {
   "codemirror_mode": {
    "name": "ipython",
    "version": 3
   },
   "file_extension": ".py",
   "mimetype": "text/x-python",
   "name": "python",
   "nbconvert_exporter": "python",
   "pygments_lexer": "ipython3",
   "version": "3.7.4"
  }
 },
 "nbformat": 4,
 "nbformat_minor": 4
}
