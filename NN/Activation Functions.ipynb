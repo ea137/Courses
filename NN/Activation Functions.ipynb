{
 "cells": [
  {
   "cell_type": "markdown",
   "metadata": {},
   "source": [
    "# Activation Functions : (small summary of the video)\n",
    "\n",
    "### he mostly discussed 3 activation Functions : sigmoid, tanh,  ReLU, and Linear Activation\n",
    "### we usually have to try them all to find the best one for our dataset\n",
    "### but usually, ReLU is better than tanh which in turn is better than sigmoid in most cases for those following reasons :\n",
    "* the derivative of ReLU is significantly different from 0 for a postive input, which allows for faster learning\n",
    "* tanh is comprised between [-1,1] so it's centered at 0, and we usually scale our data and normalize it around a zero mean, and this helps the NN learn faster compared to sigmoid which is comprised between [0,1]\n",
    "* But the use of the tanh in the output layer is usually not recommended, and Sigmoid usually performs better, because since the predicted value ($\\hat{y}$ is between 0 and 1 it makes sense that the activation function should output a value within that range)\n",
    "* We only use a Linear Activation if it's a regression problem, and even then we only use it at the output layer. the one usually used is $f(x) = x$\n",
    "\n",
    "NOTE : sigmoid,tanh,ReLU and non-linear Activation functions "
   ]
  }
 ],
 "metadata": {
  "kernelspec": {
   "display_name": "Python 3",
   "language": "python",
   "name": "python3"
  },
  "language_info": {
   "codemirror_mode": {
    "name": "ipython",
    "version": 3
   },
   "file_extension": ".py",
   "mimetype": "text/x-python",
   "name": "python",
   "nbconvert_exporter": "python",
   "pygments_lexer": "ipython3",
   "version": "3.7.4"
  }
 },
 "nbformat": 4,
 "nbformat_minor": 4
}
