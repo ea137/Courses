{
 "cells": [
  {
   "cell_type": "code",
   "execution_count": 4,
   "metadata": {},
   "outputs": [],
   "source": [
    "# Package imports\n",
    "import numpy as np\n",
    "import matplotlib.pyplot as plt\n",
    "from testCases_v2 import *\n",
    "import sklearn\n",
    "import sklearn.datasets\n",
    "import sklearn.linear_model\n",
    "from planar_utils import plot_decision_boundary, sigmoid, load_planar_dataset, load_extra_datasets\n",
    "\n",
    "%matplotlib inline\n",
    "\n",
    "np.random.seed(1) # set a seed so that the results are consistent"
   ]
  },
  {
   "cell_type": "code",
   "execution_count": 5,
   "metadata": {},
   "outputs": [],
   "source": [
    "X, Y = load_planar_dataset()"
   ]
  },
  {
   "cell_type": "markdown",
   "metadata": {},
   "source": [
    "# components\n",
    "\n",
    "Initiate W and B\n",
    "\n",
    "forward propagation : Z and A\n",
    "\n",
    "backwared propagation : derivatives of J with respect to W,B,Z\n",
    "\n",
    "propagate : combines fw and bw propagation\n",
    "\n"
   ]
  },
  {
   "cell_type": "code",
   "execution_count": 6,
   "metadata": {},
   "outputs": [
    {
     "name": "stdout",
     "output_type": "stream",
     "text": [
      "number of features : 2\n",
      "number of examples : 400\n"
     ]
    }
   ],
   "source": [
    "print('number of features :', X.shape[0] )\n",
    "print('number of examples :', X.shape[1] )"
   ]
  },
  {
   "cell_type": "code",
   "execution_count": 7,
   "metadata": {},
   "outputs": [],
   "source": [
    "def sigmoid(x):\n",
    "    return 1/(1+ np.exp(-x))"
   ]
  },
  {
   "cell_type": "code",
   "execution_count": 8,
   "metadata": {},
   "outputs": [],
   "source": [
    "def Init_(X,Y,n_h = 4):\n",
    "    '''\n",
    "    returns\n",
    "    n_x : size of input layer\n",
    "    n_h : size of hidden layer\n",
    "    n_y : size of output layer\n",
    "    '''\n",
    "    n_x = X.shape[0] # number of features\n",
    "    n_y = Y.shape[0] # output shape\n",
    "    return n_x,n_y,n_h"
   ]
  },
  {
   "cell_type": "code",
   "execution_count": 12,
   "metadata": {},
   "outputs": [],
   "source": [
    "def initiation(X,Y,n_h = 4):\n",
    "    n_x,n_y,n_h = Init_(X,Y,n_h = n_h)\n",
    "    w1 = np.random.randn(n_h,n_x) * .1\n",
    "    w2 = np.random.randn(n_y,n_h) * .1\n",
    "    b1 = np.zeros((n_h,1))\n",
    "    b2 = np.zeros((n_y,1))\n",
    "    \n",
    "    parameters = {\n",
    "        'w1': w1,\n",
    "        'w2': w2,\n",
    "        'b1': b1,\n",
    "        'b2': b2,\n",
    "    }\n",
    "    return parameters"
   ]
  },
  {
   "cell_type": "code",
   "execution_count": 13,
   "metadata": {},
   "outputs": [],
   "source": [
    "def FW_prop(X,Y,w1,b1,w2,b2):\n",
    "    \n",
    "    Z1 = np.dot(w1, X) + b1\n",
    "    A1 = sigmoid(Z1)\n",
    "    Z2 = np.dot(w2, A1) + b2\n",
    "    A2 = sigmoid(Z2)\n",
    "    parameters = {\n",
    "        'A1' : A1,\n",
    "        'Z1' : Z1,\n",
    "        'A2' : A2,\n",
    "        'Z2' : Z2\n",
    "    }\n",
    "    return parameters"
   ]
  },
  {
   "cell_type": "code",
   "execution_count": 14,
   "metadata": {},
   "outputs": [],
   "source": [
    "w1 = initiation(X,Y,n_h = 4)['w1']\n",
    "b1 = initiation(X,Y,n_h = 4)['b1']\n",
    "\n",
    "w2 = initiation(X,Y,n_h = 4)['w2']\n",
    "b2 = initiation(X,Y,n_h = 4)['b2']\n",
    "a1,a2,z1,z2 = FW_prop(X,Y,w1,b1,w2,b2)"
   ]
  },
  {
   "cell_type": "markdown",
   "metadata": {},
   "source": [
    "$W^{[1]}_1$ :\n",
    "```\n",
    "\n",
    "array([[ 0.08143431,  0.07804699],\n",
    "       [-0.14640536, -0.01544912],\n",
    "       [-0.00924323, -0.02378753],\n",
    "       [-0.07556628,  0.18514379]])\n",
    "```\n",
    "$B^{[1]}_1$ :\n",
    "```\n",
    "\n",
    "array([[0.],\n",
    "       [0.],\n",
    "       [0.],\n",
    "       [0.]])\n",
    "\n",
    "```\n",
    "sample from X :\n",
    "```\n",
    "array([[ 1.20444229,  3.57611415],\n",
    "       [ 0.1587099 , -1.4821709 ],\n",
    "       [ 0.0952472 , -1.27995533],\n",
    "       [ 0.34917847, -2.06437997],\n",
    "       [ 0.69415038,  2.88910878]])\n",
    "```\n",
    "Computations for Node 1 of the first layer :\n",
    "\n",
    "$$\n",
    "\\text{In this case} A^{[0]} := X \\\\\n",
    "\\text{so}  \\\\\n",
    "z^{[1]}_1 = w^{[1]T}_1 * x + b^{[1]}_1 := 1.20444*0.08143 + 3.5761*0.07804  + 0 \\\\ \n",
    "A^{[1]}_1 = activation ( z^{[1]}_1 )\n",
    "$$"
   ]
  },
  {
   "cell_type": "markdown",
   "metadata": {},
   "source": [
    "# General Formula :\n",
    "\n",
    "$$\n",
    "Z^{[i]} = W^{[i]} * A^{[i-1]} + B^{[i]}  \\\\\n",
    "A^{[i]} = activation (Z^{[i]}) \\\\\n",
    "$$"
   ]
  },
  {
   "cell_type": "code",
   "execution_count": 15,
   "metadata": {},
   "outputs": [],
   "source": [
    "def BW_prop():\n",
    "    pass"
   ]
  },
  {
   "cell_type": "code",
   "execution_count": 58,
   "metadata": {},
   "outputs": [
    {
     "data": {
      "text/plain": [
       "array([[0., 0., 0., 0., 0.],\n",
       "       [0., 0., 0., 0., 0.],\n",
       "       [0., 0., 0., 0., 0.],\n",
       "       [0., 0., 0., 0., 0.]])"
      ]
     },
     "execution_count": 58,
     "metadata": {},
     "output_type": "execute_result"
    }
   ],
   "source": [
    "1.20444229*0 + 3.57611415*0  + 0 = w.T * x + b first node \n",
    "sigmoid (1.20444229*0 + 3.57611415*0  + 0 ) = A first node"
   ]
  }
 ],
 "metadata": {
  "kernelspec": {
   "display_name": "Python 3",
   "language": "python",
   "name": "python3"
  },
  "language_info": {
   "codemirror_mode": {
    "name": "ipython",
    "version": 3
   },
   "file_extension": ".py",
   "mimetype": "text/x-python",
   "name": "python",
   "nbconvert_exporter": "python",
   "pygments_lexer": "ipython3",
   "version": "3.7.4"
  }
 },
 "nbformat": 4,
 "nbformat_minor": 4
}
