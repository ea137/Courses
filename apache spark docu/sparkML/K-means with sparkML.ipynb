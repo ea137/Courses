{
 "cells": [
  {
   "cell_type": "code",
   "execution_count": 3,
   "metadata": {},
   "outputs": [],
   "source": [
    "from pyspark.sql import SparkSession\n",
    "from pyspark import SparkContext , SparkConf\n",
    "\n",
    "sc = SparkContext().getOrCreate(SparkConf())\n",
    "spark = SparkSession(sc)\n",
    "df = spark.read.parquet('./data/hmp.parquet')"
   ]
  },
  {
   "cell_type": "code",
   "execution_count": 9,
   "metadata": {},
   "outputs": [],
   "source": [
    "from pyspark.ml.feature import VectorAssembler\n",
    "\n",
    "vectorAssembler = VectorAssembler(inputCols=['x','y','z'],outputCol='features')"
   ]
  },
  {
   "cell_type": "code",
   "execution_count": 39,
   "metadata": {},
   "outputs": [],
   "source": [
    "from pyspark.ml.clustering import KMeans\n",
    "from pyspark.ml.pipeline import Pipeline\n",
    "kmeans = KMeans(k = 13,seed =1)\n",
    "pipeline = Pipeline(stages = [vectorAssembler,kmeans])\n",
    "model = pipeline.fit(df)\n",
    "prediction = model.transform(df)"
   ]
  },
  {
   "cell_type": "code",
   "execution_count": 40,
   "metadata": {},
   "outputs": [
    {
     "name": "stdout",
     "output_type": "stream",
     "text": [
      "15798350.222125953\n"
     ]
    }
   ],
   "source": [
    "evalu = model.stages[1].computeCost(vectorAssembler.transform(df))\n",
    "print(evalu)"
   ]
  },
  {
   "cell_type": "code",
   "execution_count": 38,
   "metadata": {},
   "outputs": [],
   "source": [
    "df.createOrReplaceTempView('df')\n",
    "df_two_class = spark.sql('select * from df where class in (\"Brush_teeth\",\"Climb_stairs\")')"
   ]
  },
  {
   "cell_type": "code",
   "execution_count": 45,
   "metadata": {},
   "outputs": [],
   "source": [
    "kmeans= KMeans(k=2,seed =1)\n",
    "pipeline = Pipeline(stages = [vectorAssembler,kmeans])\n",
    "model = pipeline.fit(df)\n",
    "prediction = model.transform(df)"
   ]
  },
  {
   "cell_type": "code",
   "execution_count": 46,
   "metadata": {},
   "outputs": [
    {
     "name": "stdout",
     "output_type": "stream",
     "text": [
      "55765424.79655492\n"
     ]
    }
   ],
   "source": [
    "evalu = model.stages[1].computeCost(vectorAssembler.transform(df))\n",
    "print(evalu)"
   ]
  }
 ],
 "metadata": {
  "kernelspec": {
   "display_name": "Python 3",
   "language": "python",
   "name": "python3"
  },
  "language_info": {
   "codemirror_mode": {
    "name": "ipython",
    "version": 3
   },
   "file_extension": ".py",
   "mimetype": "text/x-python",
   "name": "python",
   "nbconvert_exporter": "python",
   "pygments_lexer": "ipython3",
   "version": "3.7.4"
  }
 },
 "nbformat": 4,
 "nbformat_minor": 4
}
