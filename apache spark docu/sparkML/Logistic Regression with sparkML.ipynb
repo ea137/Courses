{
 "cells": [
  {
   "cell_type": "code",
   "execution_count": 1,
   "metadata": {},
   "outputs": [],
   "source": [
    "from pyspark import SparkConf,SparkContext\n",
    "from pyspark.sql import SparkSession\n",
    "sc = SparkContext.getOrCreate(SparkConf())\n",
    "spark = SparkSession(sc).Builder().getOrCreate()\n",
    "df = spark.read.parquet('./data/hmp.parquet')\n",
    "df.createTempView('df')"
   ]
  },
  {
   "cell_type": "code",
   "execution_count": 2,
   "metadata": {},
   "outputs": [],
   "source": [
    "splits =df.randomSplit([.8,.2])\n",
    "df_train,df_test = splits[0],splits[1]"
   ]
  },
  {
   "cell_type": "code",
   "execution_count": 3,
   "metadata": {},
   "outputs": [],
   "source": [
    "from pyspark.ml.feature import StringIndexer,OneHotEncoder,VectorAssembler,Normalizer  \n",
    "from pyspark.ml.linalg import Vectors\n",
    "\n",
    "indexer = StringIndexer(inputCol='class',\n",
    "                       outputCol='label')\n",
    "vectorAssembler = VectorAssembler(inputCols=['x','y','z'],\n",
    "                                 outputCol='features')\n",
    "normalizer = Normalizer(inputCol='features',\n",
    "                       outputCol='features_norm')"
   ]
  },
  {
   "cell_type": "code",
   "execution_count": 4,
   "metadata": {},
   "outputs": [],
   "source": [
    "from pyspark.ml.classification import LogisticRegression\n",
    "from pyspark.ml.pipeline import Pipeline\n",
    "lr = LogisticRegression(maxIter=10,\n",
    "                       regParam=.3,\n",
    "                       elasticNetParam=.8)\n",
    "pipeline = Pipeline(stages = [indexer,vectorAssembler,\n",
    "                     normalizer,lr])\n",
    "model = pipeline.fit(df_train)"
   ]
  },
  {
   "cell_type": "code",
   "execution_count": 5,
   "metadata": {},
   "outputs": [],
   "source": [
    "prediction = model.transform(df_train)"
   ]
  },
  {
   "cell_type": "code",
   "execution_count": 6,
   "metadata": {},
   "outputs": [
    {
     "data": {
      "text/plain": [
       "0.20670028374906957"
      ]
     },
     "execution_count": 6,
     "metadata": {},
     "output_type": "execute_result"
    }
   ],
   "source": [
    "from pyspark.ml.evaluation import MulticlassClassificationEvaluator\n",
    "evalu = MulticlassClassificationEvaluator(metricName='accuracy',\n",
    "                                         labelCol= 'label',\n",
    "                                         predictionCol= 'prediction')  \n",
    "evalu.evaluate(prediction)"
   ]
  },
  {
   "cell_type": "code",
   "execution_count": 7,
   "metadata": {},
   "outputs": [
    {
     "data": {
      "text/plain": [
       "0.20621053930089378"
      ]
     },
     "execution_count": 7,
     "metadata": {},
     "output_type": "execute_result"
    }
   ],
   "source": [
    "prediction = model.transform(df_test)\n",
    "evalu.evaluate(prediction)"
   ]
  }
 ],
 "metadata": {
  "kernelspec": {
   "display_name": "Python 3",
   "language": "python",
   "name": "python3"
  },
  "language_info": {
   "codemirror_mode": {
    "name": "ipython",
    "version": 3
   },
   "file_extension": ".py",
   "mimetype": "text/x-python",
   "name": "python",
   "nbconvert_exporter": "python",
   "pygments_lexer": "ipython3",
   "version": "3.7.4"
  }
 },
 "nbformat": 4,
 "nbformat_minor": 4
}
