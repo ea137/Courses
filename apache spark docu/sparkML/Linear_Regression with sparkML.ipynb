{
 "cells": [
  {
   "cell_type": "code",
   "execution_count": 1,
   "metadata": {
    "scrolled": true
   },
   "outputs": [],
   "source": [
    "from pyspark import SparkConf,SparkContext\n",
    "from pyspark.sql import SparkSession\n",
    "sc = SparkContext.getOrCreate(SparkConf())\n",
    "spark = SparkSession(sc).Builder().getOrCreate()"
   ]
  },
  {
   "cell_type": "code",
   "execution_count": 2,
   "metadata": {},
   "outputs": [],
   "source": [
    "df = spark.read.parquet('./data/hmp.parquet')"
   ]
  },
  {
   "cell_type": "code",
   "execution_count": 3,
   "metadata": {},
   "outputs": [],
   "source": [
    "df.createTempView('df')"
   ]
  },
  {
   "cell_type": "code",
   "execution_count": 4,
   "metadata": {},
   "outputs": [],
   "source": [
    "query = '''\n",
    "\n",
    "select  SQRT(SUM(x*x) + SUM(y*y) + SUM(z*z) ) as label, class\n",
    "from df group by class\n",
    "'''\n",
    "df_energy = spark.sql(query)\n",
    "df_energy.createOrReplaceTempView('df_energy')"
   ]
  },
  {
   "cell_type": "code",
   "execution_count": 5,
   "metadata": {},
   "outputs": [],
   "source": [
    "query = '''\n",
    "\n",
    "SELECT * FROM df\n",
    "INNER JOIN df_energy on df_energy.class =df.class\n",
    "'''\n",
    "df_join = spark.sql(query)\n",
    "df_join.createOrReplaceTempView('df_join')"
   ]
  },
  {
   "cell_type": "code",
   "execution_count": 6,
   "metadata": {},
   "outputs": [],
   "source": [
    "from pyspark.ml.feature import VectorAssembler,Normalizer\n",
    "\n",
    "vectorAssembler = VectorAssembler(inputCols=['x','y','z'],\n",
    "                                 outputCol='features')\n",
    "normalizer = Normalizer(inputCol='features',\n",
    "                        outputCol='features_norm',\n",
    "                       p=1.0)"
   ]
  },
  {
   "cell_type": "code",
   "execution_count": 12,
   "metadata": {},
   "outputs": [],
   "source": [
    "from pyspark.ml.regression import LinearRegression\n",
    "from pyspark.ml.pipeline import Pipeline\n",
    "lr = LinearRegression(maxIter=10,\n",
    "                     regParam=.3,\n",
    "                     elasticNetParam=.8\n",
    "                     )\n",
    "\n",
    "pipeline = Pipeline(stages=[vectorAssembler,normalizer,lr])\n",
    "model = pipeline.fit(df_join)\n"
   ]
  },
  {
   "cell_type": "code",
   "execution_count": 13,
   "metadata": {},
   "outputs": [],
   "source": [
    "predictions = model.transform(df_join)"
   ]
  },
  {
   "cell_type": "code",
   "execution_count": 14,
   "metadata": {
    "scrolled": true
   },
   "outputs": [
    {
     "data": {
      "text/plain": [
       "0.03259100556263628"
      ]
     },
     "execution_count": 14,
     "metadata": {},
     "output_type": "execute_result"
    }
   ],
   "source": [
    "model.stages[2].summary.r2"
   ]
  }
 ],
 "metadata": {
  "kernelspec": {
   "display_name": "Python 3",
   "language": "python",
   "name": "python3"
  },
  "language_info": {
   "codemirror_mode": {
    "name": "ipython",
    "version": 3
   },
   "file_extension": ".py",
   "mimetype": "text/x-python",
   "name": "python",
   "nbconvert_exporter": "python",
   "pygments_lexer": "ipython3",
   "version": "3.7.4"
  }
 },
 "nbformat": 4,
 "nbformat_minor": 4
}
