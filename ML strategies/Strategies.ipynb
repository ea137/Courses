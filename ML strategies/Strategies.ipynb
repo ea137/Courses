{
 "cells": [
  {
   "cell_type": "markdown",
   "metadata": {},
   "source": [
    "# chain of assumptions in ML\n",
    "\n",
    "1. Fit training set well on cost function ($\\approx$ human-level performance) $\\Rightarrow$ bigger network, adam...\n",
    "2. Fit Dev set well on cost function $\\Rightarrow$ Regularization, bigger training set...\n",
    "3. Fit Test set well on cost function $\\Rightarrow$ Bigger dev set\n",
    "4. Perform Well in the real world $\\Rightarrow$ change dev set or Cost Function"
   ]
  },
  {
   "cell_type": "markdown",
   "metadata": {},
   "source": [
    "Sometimes we'll need to train the model on the data that is available, and its distribution may not be the same as the data that will occur in production.  Also, adding training data that differs from the dev set may still help the model improve performance on the dev set. What matters is that the dev and test set have the same distribution."
   ]
  },
  {
   "cell_type": "markdown",
   "metadata": {},
   "source": [
    "# Orthogonalization in ML :\n",
    "###### making sure each chain has a discrete number of hyperparameters you should tune to improve the model\n",
    "###### the most effective machine learning people is are very clear-eyed about what to tune in order to try to achieve one effect. This is a process we call Orthogonalization."
   ]
  },
  {
   "cell_type": "markdown",
   "metadata": {},
   "source": [
    "# Setting up Goals:\n",
    "\n",
    "1. Choosing a Single Number Evaluation Metric. in case you care about two or more metrics, one common technique is to only optimize one while, and make the other one(s) satisficing, meaning that their score should be better than a given threshold.\n",
    "2. Making dev, and test set from same distribution, example of having different distributions, and thus bad split of dev and test set: <img src = './data/dev_test.png'>\n"
   ]
  },
  {
   "cell_type": "markdown",
   "metadata": {},
   "source": [
    "# Why compare to Human Level Performance ?\n",
    "<img src = './data/HLP.png'>\n",
    "<img src = './data/Example_HvsM.png'>\n"
   ]
  },
  {
   "cell_type": "markdown",
   "metadata": {},
   "source": [
    "# Reducing avoidable bias and variance\n",
    "\n",
    "<img src = './data/Reducing_ab_and_var.png'>"
   ]
  },
  {
   "cell_type": "markdown",
   "metadata": {},
   "source": [
    "<img src = './Flight simulator.png'>"
   ]
  }
 ],
 "metadata": {
  "kernelspec": {
   "display_name": "Python 3",
   "language": "python",
   "name": "python3"
  },
  "language_info": {
   "codemirror_mode": {
    "name": "ipython",
    "version": 3
   },
   "file_extension": ".py",
   "mimetype": "text/x-python",
   "name": "python",
   "nbconvert_exporter": "python",
   "pygments_lexer": "ipython3",
   "version": "3.7.4"
  }
 },
 "nbformat": 4,
 "nbformat_minor": 4
}
