{
 "cells": [
  {
   "cell_type": "markdown",
   "metadata": {},
   "source": [
    "# Let's say that you have audio data and you want to transcribe it to text, there are usually many steps involved :\n",
    "\n",
    "\n",
    "audio $\\rightarrow$ features $\\rightarrow$ phonemes $\\rightarrow$ words $\\rightarrow$ transcript\n",
    "\n",
    "# but with end to end deep learning, you can create a huge neural network that goes from audio $\\rightarrow$ transcript"
   ]
  },
  {
   "cell_type": "markdown",
   "metadata": {},
   "source": [
    "# when can you use it ?\n",
    "\n",
    "* to use it you need a **VERY LARGE** amount of data \n",
    "###### if you have a medium size of, you may consider splitting the problem to smaller chunks such as :    audio $\\rightarrow$ phonemes  $\\rightarrow$ transcript"
   ]
  },
  {
   "cell_type": "markdown",
   "metadata": {},
   "source": [
    "# Example : Face Recognition\n",
    "\n",
    "#### there are those small machines at the entry of your uni that do face recognition to see if you are really a student; if you wanted to make one how would you go about it ?\n",
    "1. First, you will probably try to use real-time camera image to check if that person is the same as one in the database, so it goes as follow : $$ \\text{real-time camera image} \\rightarrow \\text{student  recognition} $$\n",
    "2. But you come to realize that it doesn't work so well because the position of the face within the camera is subject to change and appears in different sizes depending on the angle.\n",
    "3. So you try again, but this time you will divide the problem to finding the face within the real-time camera image and croping it, and then use that cropped image to check if that person is the same as one in the database, so it goes as follow : $$ \\text{real-time camera image} \\rightarrow  \\text{cropping face} \\rightarrow  \\text{student  recognition} $$\n",
    "4. this works better, for multiple reasons : \n",
    "    * First, each of the problems you are solving is actually simpler.\n",
    "    * Second, you have a lot more data for each of the two subtasks, but it you learn everything at once, there is fewer labeled available data."
   ]
  },
  {
   "cell_type": "markdown",
   "metadata": {},
   "source": [
    "# for the first example, end to end deep learning works well because you have enough data where you provide the english text and its french translation. <br/>  but for  the second example, the first approach works better because you don't have enough data.\n",
    "<img src = \"./data/examples_end_to_end.png\" >"
   ]
  },
  {
   "cell_type": "markdown",
   "metadata": {},
   "source": [
    "# Pros and Cons :\n",
    "<img src = \"./data/Pros_cons_endtoend.png\" >"
   ]
  }
 ],
 "metadata": {
  "kernelspec": {
   "display_name": "Python 3",
   "language": "python",
   "name": "python3"
  },
  "language_info": {
   "codemirror_mode": {
    "name": "ipython",
    "version": 3
   },
   "file_extension": ".py",
   "mimetype": "text/x-python",
   "name": "python",
   "nbconvert_exporter": "python",
   "pygments_lexer": "ipython3",
   "version": "3.7.4"
  }
 },
 "nbformat": 4,
 "nbformat_minor": 4
}
