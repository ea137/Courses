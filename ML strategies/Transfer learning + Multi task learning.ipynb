{
 "cells": [
  {
   "cell_type": "markdown",
   "metadata": {},
   "source": [
    "# Let's say that you have a pre-trained NN on image recognition and you want to use it on Radiography images."
   ]
  },
  {
   "cell_type": "markdown",
   "metadata": {},
   "source": [
    "# you have two options: \n",
    "\n",
    "* Option 1 : Retrain your whole model, called pre-training, which is basically initializing your weights and biases with those of the pre-trained model.\n",
    "* Option 2 : Only train few layers (usually last, and before last) of that model and keep the other layers untouched, this will only change the weights of the changed layers; or keep every layers untouched, and add new layers to train on top of that model, this process is called fine-tunning."
   ]
  },
  {
   "cell_type": "markdown",
   "metadata": {},
   "source": [
    "# When should we use each option ?\n",
    "###### you usually use pre-training when you have enough data to train the model, while you use fine-tunning when you don't have enough data.\n",
    "# When does transfer learning makes sense ?\n",
    "###### When you the pre-trained model is trained on more data than the new data available for the new task. for example let's say that your pre-trained model trained on 1,000,000 images and you have  1000 radiography images, here it makes sense; on the other hand if your pre-trained model trained on 100 images while you have 1000 radiography images, it doesn't make much sense.\n",
    "###### ALSO :\n",
    "1. Task A and B have the same input x\n",
    "2. You have a lot more data for Task A than Task B\n",
    "3. Low level features from A could be helpful for learning B"
   ]
  },
  {
   "cell_type": "markdown",
   "metadata": {},
   "source": [
    "<img src = \"./data/Multitask_learning.png\">"
   ]
  }
 ],
 "metadata": {
  "kernelspec": {
   "display_name": "Python 3",
   "language": "python",
   "name": "python3"
  },
  "language_info": {
   "codemirror_mode": {
    "name": "ipython",
    "version": 3
   },
   "file_extension": ".py",
   "mimetype": "text/x-python",
   "name": "python",
   "nbconvert_exporter": "python",
   "pygments_lexer": "ipython3",
   "version": "3.7.4"
  }
 },
 "nbformat": 4,
 "nbformat_minor": 4
}
