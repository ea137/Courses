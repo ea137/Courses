{
 "cells": [
  {
   "cell_type": "markdown",
   "metadata": {},
   "source": [
    "# Let's suppose you have to classify pictures of cats, after building your model and tunning it you still have 10 % error, what's the next step ? "
   ]
  },
  {
   "cell_type": "markdown",
   "metadata": {},
   "source": [
    "## You might want to try looking at the misclassified images one by one and checking their true label , and then calculate the portions of the misclassified images given their type and their impact on the error.\n",
    "\n",
    "###### for example let's say that out of the 100 misclassified images, 5 of them are dog images(5%). then if you try to focus on dogs and then the best error you can achieve from that will only be 9.5 %. so that might not be the best course of  action."
   ]
  },
  {
   "cell_type": "markdown",
   "metadata": {},
   "source": [
    "<img src = './data/EA_table.png'>"
   ]
  },
  {
   "cell_type": "markdown",
   "metadata": {},
   "source": [
    "# Cleaning incorrectly labeled data \n",
    "\n",
    "1. DL algorithms are quite robust to **RANDOM** errors in the training set\n",
    "2. *DL are less robust to **SYSTEMATIC** errors*"
   ]
  },
  {
   "cell_type": "markdown",
   "metadata": {},
   "source": [
    "# What can we do about them ?\n",
    "\n",
    "## During error analysis, you can add one extra column : 'Incorrectly labeled data'. to see the significance of the error produced.\n",
    "\n",
    "###### if the error produced has a great significance, it means that you can't entirely trust the Dev and Test set to  assess your model, you should then manually correct dev/test set examples, and there are few guidelines to that :\n",
    "1. Apply same process to your dev and test sets to make sure they continue to come from the same distribution\n",
    "2. Consider examining examples your algorithm got right as well as ones it got wrong\n",
    "3. Train, and dev/test sets may now come from slightly different distributions. Which is okay."
   ]
  },
  {
   "cell_type": "markdown",
   "metadata": {},
   "source": [
    "# Steps on getting started :\n",
    "\n",
    "1. Set up dev/ test set and metric \n",
    "2. Build initial system *QUICKLY*\n",
    "3. Use bias/ Variance analysis as well as error analysis to prioritize next steps.\n",
    "\n",
    "###### Basically , BUILD YOUR FIRST SYSTEM QUICKLY THEN ITERATE"
   ]
  }
 ],
 "metadata": {
  "kernelspec": {
   "display_name": "Python 3",
   "language": "python",
   "name": "python3"
  },
  "language_info": {
   "codemirror_mode": {
    "name": "ipython",
    "version": 3
   },
   "file_extension": ".py",
   "mimetype": "text/x-python",
   "name": "python",
   "nbconvert_exporter": "python",
   "pygments_lexer": "ipython3",
   "version": "3.7.4"
  }
 },
 "nbformat": 4,
 "nbformat_minor": 4
}
